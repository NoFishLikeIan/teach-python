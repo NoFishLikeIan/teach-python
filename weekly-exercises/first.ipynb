{
 "cells": [
  {
   "cell_type": "code",
   "execution_count": 1,
   "metadata": {},
   "outputs": [],
   "source": [
    "import numpy as np\n",
    "import pandas as pd"
   ]
  },
  {
   "cell_type": "code",
   "execution_count": 2,
   "metadata": {},
   "outputs": [],
   "source": [
    "np.random.seed(11148705)"
   ]
  },
  {
   "cell_type": "markdown",
   "metadata": {},
   "source": [
    "## Ex.1 - Recursion\n",
    "\n",
    "Implement the [Quicksort](https://en.wikipedia.org/wiki/Quicksort) algorithm, using recursion. In particular.\n",
    "\n",
    "- Choose any element of the array to be a pivot\n",
    "- Divide all elements, except the pivot, into two partitions (one with values smaller than that of the partition and one bigger)\n",
    "- Use recursion on both side of the partition\n",
    "- Join the sorted partitions and the pivot"
   ]
  },
  {
   "cell_type": "code",
   "execution_count": 3,
   "metadata": {},
   "outputs": [],
   "source": [
    "def quicksort(array):\n",
    "    \"\"\"\n",
    "    Complete below!\n",
    "    \"\"\"\n",
    "    \n",
    "    \n",
    "    return"
   ]
  },
  {
   "cell_type": "code",
   "execution_count": 4,
   "metadata": {},
   "outputs": [
    {
     "name": "stdout",
     "output_type": "stream",
     "text": [
      "The two sequences are not equal!\n"
     ]
    }
   ],
   "source": [
    "seq = [12, 72, 41, 77, 33, 66, 42, 76, 63, 32]\n",
    "    \n",
    "if quicksort(seq) != sorted(seq):\n",
    "    print(\"The two sequences are not equal!\")\n",
    "\n",
    "else:\n",
    "    print(\"Completed!\")"
   ]
  },
  {
   "cell_type": "markdown",
   "metadata": {},
   "source": [
    "## Ex.2 - Autocorrelation function\n",
    "\n",
    "Given observation from a time series $x_1, \\dots, x_n$, compute the autocorrelation function,\n",
    "\n",
    "\\begin{equation}\n",
    "    \\rho(h) = \\gamma(h) / \\gamma(0)\n",
    "\\end{equation}\n",
    "\n",
    "where\n",
    "\n",
    "\\begin{equation}\n",
    "    \\gamma(h) = \\frac{1}{n} \\sum^{n-h}_{t=1} (x_{t+h} - \\overline{x})(x_t - \\overline{x})\n",
    "\\end{equation}\n",
    "\n",
    "without using `for` loops!"
   ]
  },
  {
   "cell_type": "code",
   "execution_count": 7,
   "metadata": {},
   "outputs": [],
   "source": [
    "url = \"https://raw.githubusercontent.com/jbrownlee/Datasets/master/shampoo.csv\"\n",
    "\n",
    "X = pd.read_csv(url)[\"Sales\"].to_numpy()"
   ]
  },
  {
   "cell_type": "code",
   "execution_count": 9,
   "metadata": {},
   "outputs": [],
   "source": [
    "@np.vectorize\n",
    "def rho(h):\n",
    "    \n",
    "    return"
   ]
  },
  {
   "cell_type": "code",
   "execution_count": null,
   "metadata": {},
   "outputs": [],
   "source": []
  }
 ],
 "metadata": {
  "kernelspec": {
   "display_name": "Python 3",
   "language": "python",
   "name": "python3"
  },
  "language_info": {
   "codemirror_mode": {
    "name": "ipython",
    "version": 3
   },
   "file_extension": ".py",
   "mimetype": "text/x-python",
   "name": "python",
   "nbconvert_exporter": "python",
   "pygments_lexer": "ipython3",
   "version": "3.8.0"
  }
 },
 "nbformat": 4,
 "nbformat_minor": 4
}
